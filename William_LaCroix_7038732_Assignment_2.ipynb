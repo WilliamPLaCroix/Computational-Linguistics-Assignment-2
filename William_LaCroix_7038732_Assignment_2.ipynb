{
 "cells": [
  {
   "cell_type": "markdown",
   "metadata": {},
   "source": [
    "### Paths:"
   ]
  },
  {
   "cell_type": "code",
   "execution_count": 201,
   "metadata": {},
   "outputs": [],
   "source": [
    "paths = {'eval':'./de-utb/de-eval.tt',\n",
    "        'test':'./de-utb/de-test.t',\n",
    "        'train':'./de-utb/de-train.tt'}"
   ]
  },
  {
   "cell_type": "markdown",
   "metadata": {},
   "source": [
    "### Viterbi Algorithm:"
   ]
  },
  {
   "cell_type": "code",
   "execution_count": 202,
   "metadata": {},
   "outputs": [],
   "source": [
    "def viterbi_algorithm(states, observations):\n",
    "    \"\"\"\n",
    "    Initialisation step\n",
    "    \"\"\"\n",
    "    viterbi_matrix = [[]]\n",
    "    backpointer = [[]]\n",
    "    # for each state s from 1 to N:\n",
    "    is_empty = True\n",
    "    for state in states:\n",
    "        try:\n",
    "            # viterbi[s,1] = pi_s * b_s(o_1)\n",
    "            viterbi_matrix[0].append(pi[state] * B[states.index(state)][observations[0]])\n",
    "            is_empty = False\n",
    "        except:\n",
    "            viterbi_matrix[0].append(0)\n",
    "        # backpointer[s,1] = 0\n",
    "        backpointer[0].append(0)\n",
    "    # Handle case where there is no emission data for the word, assume b_s(o_1) = 1\n",
    "    if is_empty == True:\n",
    "        for state in states:\n",
    "            viterbi_matrix[0][states.index(state)] = pi[state]\n",
    "    \"\"\"\n",
    "    Recursive step\n",
    "    \"\"\"\n",
    "    # for each timestep t from 2 to T:\n",
    "    for t in range(1,len(observations)):\n",
    "        viterbi_matrix.append([])\n",
    "        backpointer.append([])\n",
    "        # for each state s from 1 to N:\n",
    "        is_empty = True\n",
    "        for s_current in range(len(states)):\n",
    "            # viterbi[s,t] = max(viterbi[s',t-1] * a_s',s * b_s(o_t))\n",
    "            viterbi_scores = []\n",
    "            for s_previous in range(len(states)):\n",
    "                try:\n",
    "                    viterbi_scores.append(viterbi_matrix[t-1][s_previous] * A[s_previous][s_current] * B[s_current][observations[t]])\n",
    "                    is_empty = False # flags when we have at least one data point for the word\n",
    "                except:\n",
    "                    viterbi_scores.append(0)\n",
    "            viterbi_matrix[t].append(max(viterbi_scores))\n",
    "            # backpointer[s,t] = argmax(viterbi[s',t-1] * a_s',s * b_s(o_t))\n",
    "            indices = lambda i: viterbi_scores[i] # indices allows us to find argmax()\n",
    "            pointer = max(range(len(viterbi_scores)), key=indices)\n",
    "            backpointer[t].append(pointer)\n",
    "        # Handle case where there is no emission data for the word (unseen), b_s(o_t) = 1\n",
    "        if is_empty == True:\n",
    "            for s_current in range(len(states)):\n",
    "                viterbi_scores = []\n",
    "                for s_previous in range(len(states)):\n",
    "                    viterbi_scores.append(viterbi_matrix[t-1][s_previous] * A[s_previous][s_current])\n",
    "                viterbi_matrix[t][s_current] = (max(viterbi_scores))\n",
    "                # backpointer[s,t] = argmax(viterbi[s',t-1] * a_s',s * b_s(o_t))\n",
    "                indices = lambda i: viterbi_scores[i]\n",
    "                pointer = max(range(len(viterbi_scores)), key=indices)\n",
    "                backpointer[t][s_current] = pointer\n",
    "            \n",
    "            \n",
    "    \"\"\"\n",
    "    Termination step\n",
    "    \"\"\"\n",
    "    # best_path_probability = max(viterbi[s,T])\n",
    "    best_path_probability = max(viterbi_matrix[-1])\n",
    "    # best_path_pointer = argmax(viterbi[s,T])\n",
    "    indices = lambda i: viterbi_matrix[-1][i]\n",
    "    best_path_pointer = max(range(len(viterbi_matrix[-1])), key=indices)\n",
    "    # best_path = starts at best_path_pointer and follows pointers back in time\n",
    "    best_path = []\n",
    "    upone = best_path_pointer\n",
    "    backtrack = backpointer[::-1] # list.reverse() doesn't work on nested lists\n",
    "    for step in backtrack:\n",
    "        best_path.append(states[upone])\n",
    "        upone = step[upone]\n",
    "    best_path = best_path[::-1]\n",
    "    return best_path, best_path_probability"
   ]
  },
  {
   "cell_type": "markdown",
   "metadata": {},
   "source": [
    "### Testing Eisner's Ice Cream"
   ]
  },
  {
   "cell_type": "code",
   "execution_count": 203,
   "metadata": {},
   "outputs": [
    {
     "name": "stdout",
     "output_type": "stream",
     "text": [
      "The best path has a probability of 0.012544000000000003, and follows nodes ['H', 'H', 'H']\n"
     ]
    }
   ],
   "source": [
    "Q = [\"H\", \"C\"] # set of states\n",
    "A = [[0.7, 0.3], [0.4, 0.6]] # transition probability maxtrix P(q_t|q_t-1) ~> A[q_t-1][q_t]\n",
    "O = [\"3\", \"1\", \"3\"] # sequence of observations : len = T, \n",
    "B = [{\"1\":0.2, \"2\":0.4, \"3\":0.4}, {\"1\":0.5, \"2\":0.4, \"3\":0.1}] # emission probabilities : P(o_t|q_t) ~> B[q_t][o_t]\n",
    "pi = {\"H\":0.8, \"C\":0.2} # initial proability distribution : P(pi_1) ~> pi[q_1]\n",
    "\n",
    "path, prob = viterbi_algorithm(Q, O)\n",
    "print(f\"The best path has a probability of {prob}, and follows nodes {path}\")"
   ]
  },
  {
   "cell_type": "markdown",
   "metadata": {},
   "source": [
    "### Corpus Reader\n",
    "\n",
    "This cell is responsible for pre-processing the corpora into various data types (word list, word counts, (un)tagged sentences, etc.), as well as reading in the test corpus and breaking that up into sentences."
   ]
  },
  {
   "cell_type": "code",
   "execution_count": 204,
   "metadata": {},
   "outputs": [],
   "source": [
    "from collections import Counter, defaultdict\n",
    "from nltk.corpus.reader import ConllCorpusReader as CR\n",
    "\n",
    "training_corpus = CR('./de-utb/', 'de-train.tt', ('words', 'pos',))\n",
    "\n",
    "words = training_corpus.words()\n",
    "tagged_words = training_corpus.tagged_words()\n",
    "tagged_sentences = training_corpus.tagged_sents()\n",
    "training_sentences = training_corpus.sents()\n",
    "word_counts = Counter(tagged_words)\n",
    "raw_training_corpus = training_corpus.raw()\n",
    "str_training_corpus = raw_training_corpus.split()\n",
    "raw_counts = Counter(str_training_corpus)\n",
    "\n",
    "evaluation_corpus = CR('./de-utb/', 'de-test.t', ('words', 'pos',))\n",
    "evaluation_sentences = evaluation_corpus.sents()"
   ]
  },
  {
   "cell_type": "markdown",
   "metadata": {},
   "source": [
    "### Calculating initial probabilities table\n",
    "\n",
    "initial probabilities: probability that sentence starts with tag qjʼ\n",
    "\n",
    "initial proability distribution : P(pi_1) ~> pi[q_1]"
   ]
  },
  {
   "cell_type": "code",
   "execution_count": 205,
   "metadata": {},
   "outputs": [
    {
     "name": "stdout",
     "output_type": "stream",
     "text": [
      "Initial probabilities cj:  {'ADV': 0.11772205694857629, 'DET': 0.26151012891344383, 'ADJ': 0.042853095339283186, 'PRON': 0.14300892477688057, 'CONJ': 0.026774330641733957, 'NOUN': 0.14626717665391697, 'NUM': 0.028828445955517777, 'ADP': 0.2122113613826321, 'VERB': 0.014803796571752372, 'PRT': 0.0014874628134296643, '.': 0.003683241252302026, 'X': 0.0008499787505312367}\n",
      "sum of cj:  1.0\n"
     ]
    }
   ],
   "source": [
    "sentence_starters = []\n",
    "for i in range(len(tagged_sentences)):\n",
    "    # tagged_sentences[i][0][1] is the part of speech tag for the first word in the ith sentence\n",
    "    sentence_starters.append(tagged_sentences[i][0][1])\n",
    "sentence_starter_counts = Counter(sentence_starters)\n",
    "tags = list(sentence_starter_counts.keys())\n",
    "cj = {}\n",
    "for tag in tags:\n",
    "    # cj = C(#sentences beginning with qj) / #sentences\n",
    "    cj[tag] = sentence_starter_counts[tag]/len(tagged_sentences)\n",
    "print(\"Initial probabilities cj: \", cj)\n",
    "sum = 0\n",
    "keys = list(cj.keys())\n",
    "for key in keys:\n",
    "    sum += cj[key]\n",
    "print(\"sum of cj: \", sum) # If this doesn't come up as ~1, we did something wrong."
   ]
  },
  {
   "cell_type": "markdown",
   "metadata": {},
   "source": [
    "### Calculating transition probabilities table\n",
    "\n",
    "transition probabilities: probability of tag qj given previous tag qi\n",
    "\n",
    "transition probability maxtrix P(q_t|q_t-1) ~> A[q_i][q_j]"
   ]
  },
  {
   "cell_type": "code",
   "execution_count": 206,
   "metadata": {},
   "outputs": [
    {
     "name": "stdout",
     "output_type": "stream",
     "text": [
      "Sample transition probability aij[0]:  [0.12207047715393694, 0.10900354071825999, 0.1531782161524195, 0.0336368234699039, 0.015848929354240433, 0.05403810487270275, 0.054291013319844886, 0.20308548305513405, 0.1849603776766144, 0.03566009104704097, 0.03372112628561794, 0.0005058168942842691]\n",
      "Sum of transition probabilities in aij[0]:  1.0\n"
     ]
    }
   ],
   "source": [
    "tag_pair_counts = defaultdict(int)\n",
    "for sentence in tagged_sentences:\n",
    "    for i in range(len(sentence)-1): \n",
    "        j = i + 1\n",
    "        # sentence[i][1] is the part of speech tag for the ith word in the sentence\n",
    "        tag_pair_counts[(sentence[i][1], sentence[j][1])] += 1\n",
    "        \n",
    "tag_counts = defaultdict(int)\n",
    "for tag_pair in tag_pair_counts:\n",
    "    # Count occurences of qi in contexts q*\n",
    "    tag_counts[tag_pair[0]] += tag_pair_counts[tag_pair]\n",
    "\n",
    "# inintialize full array of 0s, in case a tag pair combination remains unseen in training data (like [PRT|.] in our corpus)\n",
    "aij = [[0] * len(tags) for _ in range(len(tags))] \n",
    "\n",
    "for tag_pair in tag_pair_counts:\n",
    "    tagi = tag_pair[0]\n",
    "    tagj = tag_pair[1]\n",
    "    # aij = C(qi, qj) / C(qi, q*)\n",
    "    aij[tags.index(tagi)][tags.index(tagj)] = tag_pair_counts[tag_pair]/tag_counts[tagi]\n",
    "print(\"Sample transition probability aij[0]: \", aij[0])\n",
    "sum = 0\n",
    "for prob in aij[0]:\n",
    "    sum += prob\n",
    "print(\"Sum of transition probabilities in aij[0]: \", sum) # If this doesn't come up as ~1, we did something wrong."
   ]
  },
  {
   "cell_type": "markdown",
   "metadata": {},
   "source": [
    "### Calculating emission probabilities table\n",
    "\n",
    "emission probabilities: probability of word o given tag qj\n",
    "\n",
    "emission probabilities : P(o|qj) ~> B[qj][o]"
   ]
  },
  {
   "cell_type": "code",
   "execution_count": 207,
   "metadata": {},
   "outputs": [
    {
     "name": "stdout",
     "output_type": "stream",
     "text": [
      "Sum of probabilities in bj[0]:  1.0000000000000064\n"
     ]
    }
   ],
   "source": [
    "bj = [{} for _ in range(len(tags))] # initialise matrix of empty dictionaries\n",
    "\n",
    "for word_count in word_counts:\n",
    "    # bj(o) = C(qj, o) / C(qj)\n",
    "    bj[tags.index(word_count[1])][word_count[0]] = word_counts[word_count]/raw_counts[word_count[1]]\n",
    "#print(bj[0])\n",
    "sum = 0\n",
    "for word in bj[0]:\n",
    "    sum += bj[0][word]\n",
    "print(\"Sum of probabilities in bj[0]: \", sum)  # If this doesn't come up as ~1, we did something wrong.\n"
   ]
  },
  {
   "cell_type": "markdown",
   "metadata": {},
   "source": [
    "### Setting parameters for running Viterbi on corpus"
   ]
  },
  {
   "cell_type": "code",
   "execution_count": 208,
   "metadata": {},
   "outputs": [],
   "source": [
    "Q = tags # set of states : len = N\n",
    "A = aij # transition probability maxtrix P(q_t|q_t-1) ~> A[q_t-1][q_t]\n",
    "training_O = training_sentences # sequence of untagged training observations : len = T\n",
    "evaluation_O = evaluation_sentences # sequence of test observations : len = T\n",
    "B = bj # emission probabilities : P(o_t|q_t) ~> B[q_t][o_t]\n",
    "pi = cj # initial proability distribution : P(pi_1) ~> pi[q_1]"
   ]
  },
  {
   "cell_type": "markdown",
   "metadata": {},
   "source": [
    "### Checking trained model against untagged training corpus\n",
    "\n",
    "Runtime is ~25s"
   ]
  },
  {
   "cell_type": "code",
   "execution_count": 209,
   "metadata": {},
   "outputs": [],
   "source": [
    "import timeit # will be used for timing each call to the viterbi_algorithm\n",
    "\n",
    "speed_vs_length = []\n",
    "with open(\"training_output.tt\", 'w', encoding = 'utf-8') as file:\n",
    "    for sentence in training_O:\n",
    "        timer_start = timeit.default_timer()\n",
    "        path, prob = viterbi_algorithm(Q, sentence) # meat of our program\n",
    "        timer_stop = timeit.default_timer()\n",
    "        time = timer_stop - timer_start\n",
    "        length = len(sentence)\n",
    "        speed_vs_length.append((length, time))\n",
    "        zipped_sentence = list(zip(sentence, path))\n",
    "        for tuple in zipped_sentence:\n",
    "            file.write(f\"{tuple[0]}\\t{tuple[1]}\\n\")\n",
    "        file.write(\"\\n\")"
   ]
  },
  {
   "cell_type": "markdown",
   "metadata": {},
   "source": [
    "### Running eval.py on training data\n",
    "\n",
    "    Note: I had to modify the following lines from eval.py in order for the evaluator to handle the German text input. The modified file will be included with my submission.\n",
    "\n",
    "file_gold = open(sys.argv[1], 'r', ***encoding = 'utf-8'***)\n",
    "\n",
    "file_system = open(sys.argv[2], 'r', ***encoding = 'utf-8'***)"
   ]
  },
  {
   "cell_type": "code",
   "execution_count": 210,
   "metadata": {},
   "outputs": [
    {
     "name": "stdout",
     "output_type": "stream",
     "text": [
      "\n",
      "Comparing gold file \"./de-utb/de-train.tt\" and system file \"./training_output.tt\"\n",
      "\n",
      "Precision, recall, and F1 score:\n",
      "\n",
      "  ADV 0.8781 0.9410 0.9084\n",
      "  ADJ 0.9559 0.9169 0.9360\n",
      " NOUN 0.9948 0.9784 0.9866\n",
      "    . 0.9990 0.9982 0.9986\n",
      "  DET 0.9655 0.9871 0.9762\n",
      " VERB 0.9796 0.9951 0.9873\n",
      " PRON 0.9561 0.9119 0.9335\n",
      "  PRT 0.9009 0.9672 0.9329\n",
      "  ADP 0.9681 0.9844 0.9762\n",
      " CONJ 0.9613 0.9483 0.9547\n",
      "  NUM 0.9609 0.9786 0.9697\n",
      "    X 0.6323 0.7072 0.6676\n",
      "\n",
      "Accuracy: 0.9734\n",
      "\n"
     ]
    }
   ],
   "source": [
    "%run eval_utf8.py \"./de-utb/de-train.tt\" \"./training_output.tt\""
   ]
  },
  {
   "cell_type": "markdown",
   "metadata": {},
   "source": [
    "### Evaluation discussion:\n",
    "\n",
    "Accuracy of predictions running the trained model against untagged training data was 97.34%, which will serve as our baseline for comparison against the untagged evaluation data. We see the lowest precision, recall, and F1 score for X tags, which seems reasonable, since we might expect our model to have a hard time predicting \"things that arent really words, and aren't really punctuation\". "
   ]
  },
  {
   "cell_type": "markdown",
   "metadata": {},
   "source": [
    "### Speed vs Sentence Length for training corpus"
   ]
  },
  {
   "cell_type": "code",
   "execution_count": 211,
   "metadata": {},
   "outputs": [
    {
     "data": {
      "image/png": "[encoded data removed]",
      "text/plain": [
       "<Figure size 432x288 with 1 Axes>"
      ]
     },
     "metadata": {
      "needs_background": "light"
     },
     "output_type": "display_data"
    },
    {
     "name": "stdout",
     "output_type": "stream",
     "text": [
      "Overall goodness of fit:  0.9478822441823432\n"
     ]
    }
   ],
   "source": [
    "import matplotlib.pyplot as plt\n",
    "from sklearn.linear_model import LinearRegression as LR\n",
    "import numpy as np\n",
    "\n",
    "s_v_l = list(zip(*speed_vs_length))\n",
    "Y = np.asarray(s_v_l[1])\n",
    "X = np.asarray(s_v_l[0])\n",
    "X, Y = X.reshape(-1,1), Y.reshape(-1,1)\n",
    "plt.plot( X, LR().fit(X, Y).predict(X), color = \"red\")\n",
    "plt.scatter(s_v_l[0], s_v_l[1], marker='.')\n",
    "plt.title(\"Speed of Viterbi Probability vs Length of Sentence\")\n",
    "plt.xlabel(\"Length of Sentence (words)\")\n",
    "plt.ylabel(\"Speed of Viterbi Probability (s)\")\n",
    "plt.show()\n",
    "\n",
    "model = LR()\n",
    "fit = model.fit(X, Y)\n",
    "score = model.score(X, Y)\n",
    "print(\"Overall goodness of fit: \", score)"
   ]
  },
  {
   "cell_type": "markdown",
   "metadata": {},
   "source": [
    "### Regression discussion:\n",
    "\n",
    "Plot of \"Speed of Viterbi Probability vs Length of Sentence\" was almost perfectly linear, which was what we were hoping to see, since our hypothesis was that the algorithm will run in O(T*N^2), increasing quadratically with the number of tags, but only linearly with the length of the observations.\n",
    "\n",
    "Using linear regression to plot the line of best fit, we ended up with an R^2 value between 0.92 and 0.95 in the runs I observed, giving us a pretty strong indication that the function time is in fact linear with respect to the sentence length, with several outliers.\n",
    "\n",
    "Note: the exact R^2 value and graph vary slightly for each run of the model, suggesting that there is some machine-internal variation for these times, and the exact values will depend somewhat on the each specific instance."
   ]
  },
  {
   "cell_type": "markdown",
   "metadata": {},
   "source": [
    "### Plotting the residuals"
   ]
  },
  {
   "cell_type": "code",
   "execution_count": 212,
   "metadata": {},
   "outputs": [
    {
     "data": {
      "text/plain": [
       "<matplotlib.lines.Line2D at 0x1d04c51f460>"
      ]
     },
     "execution_count": 212,
     "metadata": {},
     "output_type": "execute_result"
    },
    {
     "data": {
      "image/png": "[encoded data removed]",
      "text/plain": [
       "<Figure size 432x288 with 1 Axes>"
      ]
     },
     "metadata": {
      "needs_background": "light"
     },
     "output_type": "display_data"
    }
   ],
   "source": [
    "predictions = model.predict(X)\n",
    "residuals = (Y - predictions)\n",
    "plt.figure()\n",
    "plt.scatter(predictions, residuals, marker='.')\n",
    "plt.xlabel('Predicted values')\n",
    "plt.ylabel('Residuals')\n",
    "plt.title(\"Scatter plot of residuals vs predicted values\")\n",
    "plt.axhline(y = np.nanmean(residuals), color = \"red\")"
   ]
  },
  {
   "cell_type": "markdown",
   "metadata": {},
   "source": [
    "### Residuals discussion:\n",
    "\n",
    "Plotting the residuals it becomes obvious that the variance in error increases wtih the predicted values, suggesting that our hypothesis of linear increase in time becomes less accurate as we increase the sentence length. This seems reasonable, since increased sentence length increases the opportunities for our algorithm to deviate from the best-case runtime to worst-case runtime."
   ]
  },
  {
   "cell_type": "markdown",
   "metadata": {},
   "source": [
    "### Checking trained model against test corpus"
   ]
  },
  {
   "cell_type": "code",
   "execution_count": 213,
   "metadata": {},
   "outputs": [],
   "source": [
    "speed_vs_length = []\n",
    "with open(\"evaluation_output.tt\", 'w', encoding = 'utf-8') as file:\n",
    "    for sentence in evaluation_O:\n",
    "        timer_start = timeit.default_timer()\n",
    "        path, prob = viterbi_algorithm(Q, sentence)\n",
    "        timer_stop = timeit.default_timer()\n",
    "        time = timer_stop - timer_start\n",
    "        length = len(sentence)\n",
    "        speed_vs_length.append((length,time))\n",
    "        zipped_sentence = list(zip(sentence, path))\n",
    "        for tuple in zipped_sentence:\n",
    "            file.write(f\"{tuple[0]}\\t{tuple[1]}\\n\")\n",
    "        file.write(\"\\n\")"
   ]
  },
  {
   "cell_type": "markdown",
   "metadata": {},
   "source": [
    "### Running eval.py on test data"
   ]
  },
  {
   "cell_type": "code",
   "execution_count": 214,
   "metadata": {},
   "outputs": [
    {
     "name": "stdout",
     "output_type": "stream",
     "text": [
      "\n",
      "Comparing gold file \"./de-utb/de-eval.tt\" and system file \"./evaluation_output.tt\"\n",
      "\n",
      "Precision, recall, and F1 score:\n",
      "\n",
      "  DET 0.8232 0.9755 0.8929\n",
      " NOUN 0.9294 0.9141 0.9217\n",
      " VERB 0.9202 0.9211 0.9206\n",
      "  ADP 0.9348 0.9775 0.9557\n",
      "    . 0.9608 0.9996 0.9798\n",
      " CONJ 0.9498 0.8974 0.9228\n",
      " PRON 0.8671 0.8364 0.8515\n",
      "  ADV 0.9043 0.8058 0.8523\n",
      "  ADJ 0.8099 0.7222 0.7635\n",
      "  NUM 0.9905 0.7704 0.8667\n",
      "  PRT 0.8712 0.9251 0.8973\n",
      "    X 0.2222 0.0909 0.1290\n",
      "\n",
      "Accuracy: 0.9094\n",
      "\n"
     ]
    }
   ],
   "source": [
    "%run eval_utf8.py \"./de-utb/de-eval.tt\" \"./evaluation_output.tt\""
   ]
  },
  {
   "cell_type": "markdown",
   "metadata": {},
   "source": [
    "### Speed vs Sentence Length for test corpus"
   ]
  },
  {
   "cell_type": "code",
   "execution_count": 215,
   "metadata": {},
   "outputs": [
    {
     "data": {
      "image/png": "[encoded data removed]",
      "text/plain": [
       "<Figure size 432x288 with 1 Axes>"
      ]
     },
     "metadata": {
      "needs_background": "light"
     },
     "output_type": "display_data"
    },
    {
     "name": "stdout",
     "output_type": "stream",
     "text": [
      "Overall goodness of fit:  0.9443108578320155\n"
     ]
    }
   ],
   "source": [
    "s_v_l = list(zip(*speed_vs_length))\n",
    "Y = np.asarray(s_v_l[1])\n",
    "X = np.asarray(s_v_l[0])\n",
    "X, Y = X.reshape(-1,1), Y.reshape(-1,1)\n",
    "plt.plot( X, LR().fit(X, Y).predict(X), color = \"red\")\n",
    "plt.scatter(s_v_l[0], s_v_l[1], marker='.')\n",
    "plt.title(\"Speed of Viterbi Probability vs Length of Sentence\")\n",
    "plt.xlabel(\"Length of Sentence (words)\")\n",
    "plt.ylabel(\"Speed of Viterbi Probability (s)\")\n",
    "plt.show()\n",
    "\n",
    "model = LR()\n",
    "fit = model.fit(X, Y)\n",
    "score = model.score(X, Y)\n",
    "print(\"Overall goodness of fit: \", score)"
   ]
  },
  {
   "cell_type": "code",
   "execution_count": 216,
   "metadata": {},
   "outputs": [
    {
     "data": {
      "text/plain": [
       "<matplotlib.lines.Line2D at 0x1d04d48a5e0>"
      ]
     },
     "execution_count": 216,
     "metadata": {},
     "output_type": "execute_result"
    },
    {
     "data": {
      "image/png": "[encoded data removed]",
      "text/plain": [
       "<Figure size 432x288 with 1 Axes>"
      ]
     },
     "metadata": {
      "needs_background": "light"
     },
     "output_type": "display_data"
    }
   ],
   "source": [
    "predictions = model.predict(X)\n",
    "residuals = (Y - predictions)\n",
    "plt.figure()\n",
    "plt.scatter(predictions, residuals, marker='.')\n",
    "plt.xlabel('Fitted values')\n",
    "plt.ylabel('Residuals')\n",
    "plt.title(\"Scatter plot of residuals vs predicted values\")\n",
    "plt.axhline(y = np.nanmean(residuals), color = \"red\")"
   ]
  },
  {
   "cell_type": "markdown",
   "metadata": {},
   "source": [
    "### Evaluation discussion:\n",
    "\n",
    "Accuracy of predictions running the trained model against untagged test data was 90.94%, which I'm pretty happy with. Notice that a significant portion of our error comes again from the X tag, though instead of (X 0.6323 0.7072 0.6676) like in our training data, we end up with (X 0.2222 0.0909 0.1290). I again attribute this to the nature of the X category, and the model's difficulty in handling these non-word/non-punctuation tokens.\n",
    "\n",
    "The fit of our linear regression over the data in the test corpus has a similar R^2 value to that of the training corpus, varying between 0.90 and 0.97 in the runs I observed, also indicating a linear relationship between run time and sentence length. My hypothesis would have been that, with the test corpus incorporating many tokens that were unseen in training data, the model would have needed extra steps (unseen word handling) required to find the max likelihood at that step in the viterbi matrix, giving us more variance in the runtime. But presuming the unseen data is spread relatively evenenly throughout the test sentences, then the average contribution to the runtime would likely increase proportionally with the amount of unseen data, allowing us to maintain the linear relationship between sentence length and runtime.\n",
    "\n",
    "Our residuals plot displays similar heteroscedasticity to that of the test corpus. I think it's insightful to note that the outliers in our residuals graph are almost all on the positive side of the mean, suggesting that the variance in runtime is more likely to take much longer than expected (many unknown words), and unlikely to come out significantly shorter than expected (can only go so fast). In both training and test data residual plots, the variance below the mean increases quite regularly, following a linear increase, resulting in a fairly tight cone beneath the mean. These would be our best-case runtimes, when compared with the mean. However the variance above the mean increases much more violently, and while still concentrated around the mean, results in outliers far above our expected value."
   ]
  }
 ],
 "metadata": {
  "kernelspec": {
   "display_name": "Python 3.8.8 ('base')",
   "language": "python",
   "name": "python3"
  },
  "language_info": {
   "codemirror_mode": {
    "name": "ipython",
    "version": 3
   },
   "file_extension": ".py",
   "mimetype": "text/x-python",
   "name": "python",
   "nbconvert_exporter": "python",
   "pygments_lexer": "ipython3",
   "version": "3.9.13 (main, Aug 25 2022, 23:51:50) [MSC v.1916 64 bit (AMD64)]"
  },
  "orig_nbformat": 4,
  "vscode": {
   "interpreter": {
    "hash": "3f56231212a954684e4455fc18e87f1d6f60ff89596aa855e6d309fe16c87e87"
   }
  }
 },
 "nbformat": 4,
 "nbformat_minor": 2
}
